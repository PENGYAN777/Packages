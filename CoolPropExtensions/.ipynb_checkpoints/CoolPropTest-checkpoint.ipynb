{
 "cells": [
  {
   "cell_type": "code",
   "execution_count": 2,
   "metadata": {
    "colab": {
     "base_uri": "https://localhost:8080/"
    },
    "executionInfo": {
     "elapsed": 8835,
     "status": "ok",
     "timestamp": 1669365754088,
     "user": {
      "displayName": "PENG YAN",
      "userId": "08291337600744218184"
     },
     "user_tz": -60
    },
    "id": "riKe3uPm8VMo",
    "outputId": "2324c985-8b5a-4647-a600-ea18d4d8b4be"
   },
   "outputs": [
    {
     "name": "stdout",
     "output_type": "stream",
     "text": [
      "Looking in indexes: https://pypi.org/simple, https://us-python.pkg.dev/colab-wheels/public/simple/\n",
      "Collecting CoolProp\n",
      "  Downloading CoolProp-6.4.1-cp37-cp37m-manylinux_2_17_x86_64.manylinux2014_x86_64.whl (44.2 MB)\n",
      "\u001b[K     |████████████████████████████████| 44.2 MB 1.2 MB/s \n",
      "\u001b[?25hInstalling collected packages: CoolProp\n",
      "Successfully installed CoolProp-6.4.1\n"
     ]
    }
   ],
   "source": [
    "!pip install CoolProp\n",
    "from CoolProp.CoolProp import PropsSI\n"
   ]
  },
  {
   "cell_type": "code",
   "execution_count": 8,
   "metadata": {
    "colab": {
     "base_uri": "https://localhost:8080/"
    },
    "executionInfo": {
     "elapsed": 314,
     "status": "ok",
     "timestamp": 1669365899973,
     "user": {
      "displayName": "PENG YAN",
      "userId": "08291337600744218184"
     },
     "user_tz": -60
    },
    "id": "DChgTTQ-8_mZ",
    "outputId": "d6c6b931-b045-43b8-c80d-e94fc487cdc3"
   },
   "outputs": [
    {
     "data": {
      "text/plain": [
       "0.9998196745460922"
      ]
     },
     "execution_count": 8,
     "metadata": {},
     "output_type": "execute_result"
    }
   ],
   "source": [
    "PropsSI('Z','P',1e5,'T',300,'nitrogen')"
   ]
  },
  {
   "cell_type": "code",
   "execution_count": 7,
   "metadata": {
    "colab": {
     "base_uri": "https://localhost:8080/"
    },
    "executionInfo": {
     "elapsed": 231,
     "status": "ok",
     "timestamp": 1669365892669,
     "user": {
      "displayName": "PENG YAN",
      "userId": "08291337600744218184"
     },
     "user_tz": -60
    },
    "id": "Rf28wW6l9fsX",
    "outputId": "e46e2684-6654-47ac-f9d0-ca6e1a3a700f"
   },
   "outputs": [
    {
     "data": {
      "text/plain": [
       "1.2007329750804283"
      ]
     },
     "execution_count": 7,
     "metadata": {},
     "output_type": "execute_result"
    }
   ],
   "source": [
    "PropsSI('fundamental_derivative_of_gas_dynamics','P',1e5,'T',300,'nitrogen')"
   ]
  },
  {
   "cell_type": "code",
   "execution_count": 9,
   "metadata": {
    "colab": {
     "base_uri": "https://localhost:8080/",
     "height": 269
    },
    "executionInfo": {
     "elapsed": 221,
     "status": "error",
     "timestamp": 1669365982185,
     "user": {
      "displayName": "PENG YAN",
      "userId": "08291337600744218184"
     },
     "user_tz": -60
    },
    "id": "-xPQJaH99xaF",
    "outputId": "772bc678-2516-4904-dd0d-23d5d7b5da55"
   },
   "outputs": [
    {
     "ename": "ValueError",
     "evalue": "ignored",
     "output_type": "error",
     "traceback": [
      "\u001b[0;31m---------------------------------------------------------------------------\u001b[0m",
      "\u001b[0;31mValueError\u001b[0m                                Traceback (most recent call last)",
      "\u001b[0;32m<ipython-input-9-456fb4efdedf>\u001b[0m in \u001b[0;36m<module>\u001b[0;34m\u001b[0m\n\u001b[0;32m----> 1\u001b[0;31m \u001b[0mPropsSI\u001b[0m\u001b[0;34m(\u001b[0m\u001b[0;34m'P'\u001b[0m\u001b[0;34m,\u001b[0m\u001b[0;34m'Z'\u001b[0m\u001b[0;34m,\u001b[0m\u001b[0;36m0.9\u001b[0m\u001b[0;34m,\u001b[0m\u001b[0;34m'T'\u001b[0m\u001b[0;34m,\u001b[0m\u001b[0;36m300\u001b[0m\u001b[0;34m,\u001b[0m\u001b[0;34m'nitrogen'\u001b[0m\u001b[0;34m)\u001b[0m\u001b[0;34m\u001b[0m\u001b[0;34m\u001b[0m\u001b[0m\n\u001b[0m",
      "\u001b[0;32mCoolProp/CoolProp.pyx\u001b[0m in \u001b[0;36mCoolProp.CoolProp.PropsSI\u001b[0;34m()\u001b[0m\n",
      "\u001b[0;32mCoolProp/CoolProp.pyx\u001b[0m in \u001b[0;36mCoolProp.CoolProp.PropsSI\u001b[0;34m()\u001b[0m\n",
      "\u001b[0;32mCoolProp/CoolProp.pyx\u001b[0m in \u001b[0;36mCoolProp.CoolProp.__Props_err2\u001b[0;34m()\u001b[0m\n",
      "\u001b[0;31mValueError\u001b[0m: Input pair variable is invalid and output(s) are non-trivial; cannot do state update : PropsSI(\"P\",\"Z\",0.9,\"T\",300,\"nitrogen\")"
     ]
    }
   ],
   "source": [
    "PropsSI('P','Z',0.9,'T',300,'nitrogen')"
   ]
  }
 ],
 "metadata": {
  "colab": {
   "authorship_tag": "ABX9TyMnrXgpmmwXyoT2cTg+NIBG",
   "provenance": [
    {
     "file_id": "1N75NFJfkiDib1wtTWUAX-sxdvTtlFPok",
     "timestamp": 1669366072511
    }
   ]
  },
  "kernelspec": {
   "display_name": "Python 3 (ipykernel)",
   "language": "python",
   "name": "python3"
  },
  "language_info": {
   "codemirror_mode": {
    "name": "ipython",
    "version": 3
   },
   "file_extension": ".py",
   "mimetype": "text/x-python",
   "name": "python",
   "nbconvert_exporter": "python",
   "pygments_lexer": "ipython3",
   "version": "3.9.13"
  }
 },
 "nbformat": 4,
 "nbformat_minor": 1
}
